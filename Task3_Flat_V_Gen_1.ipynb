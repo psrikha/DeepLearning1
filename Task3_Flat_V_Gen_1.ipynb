{
  "nbformat": 4,
  "nbformat_minor": 0,
  "metadata": {
    "colab": {
      "provenance": []
    },
    "kernelspec": {
      "name": "python3",
      "display_name": "Python 3"
    },
    "language_info": {
      "name": "python"
    },
    "accelerator": "GPU",
    "gpuClass": "standard",
    "widgets": {
      "application/vnd.jupyter.widget-state+json": {
        "c6c09140d2e546668a8ff81dc2444c44": {
          "model_module": "@jupyter-widgets/controls",
          "model_name": "HBoxModel",
          "model_module_version": "1.5.0",
          "state": {
            "_dom_classes": [],
            "_model_module": "@jupyter-widgets/controls",
            "_model_module_version": "1.5.0",
            "_model_name": "HBoxModel",
            "_view_count": null,
            "_view_module": "@jupyter-widgets/controls",
            "_view_module_version": "1.5.0",
            "_view_name": "HBoxView",
            "box_style": "",
            "children": [
              "IPY_MODEL_adc2cfdf9e404c84b1802b79a0bb4a4c",
              "IPY_MODEL_3bd845a7fdf3464f96d0058033888a78",
              "IPY_MODEL_123b533d7c6e45f79d0de961efe66eec"
            ],
            "layout": "IPY_MODEL_b980605ab69c4f879d25eb46ca789c1e"
          }
        },
        "adc2cfdf9e404c84b1802b79a0bb4a4c": {
          "model_module": "@jupyter-widgets/controls",
          "model_name": "HTMLModel",
          "model_module_version": "1.5.0",
          "state": {
            "_dom_classes": [],
            "_model_module": "@jupyter-widgets/controls",
            "_model_module_version": "1.5.0",
            "_model_name": "HTMLModel",
            "_view_count": null,
            "_view_module": "@jupyter-widgets/controls",
            "_view_module_version": "1.5.0",
            "_view_name": "HTMLView",
            "description": "",
            "description_tooltip": null,
            "layout": "IPY_MODEL_8d0ac60f7d1847a3be4796d24ca4a499",
            "placeholder": "​",
            "style": "IPY_MODEL_29348fa26f654aa6a046233a666b884d",
            "value": "100%"
          }
        },
        "3bd845a7fdf3464f96d0058033888a78": {
          "model_module": "@jupyter-widgets/controls",
          "model_name": "FloatProgressModel",
          "model_module_version": "1.5.0",
          "state": {
            "_dom_classes": [],
            "_model_module": "@jupyter-widgets/controls",
            "_model_module_version": "1.5.0",
            "_model_name": "FloatProgressModel",
            "_view_count": null,
            "_view_module": "@jupyter-widgets/controls",
            "_view_module_version": "1.5.0",
            "_view_name": "ProgressView",
            "bar_style": "success",
            "description": "",
            "description_tooltip": null,
            "layout": "IPY_MODEL_580f23411049492e960d42248cccc252",
            "max": 9912422,
            "min": 0,
            "orientation": "horizontal",
            "style": "IPY_MODEL_093629c7773b43acb1c64abfb464d503",
            "value": 9912422
          }
        },
        "123b533d7c6e45f79d0de961efe66eec": {
          "model_module": "@jupyter-widgets/controls",
          "model_name": "HTMLModel",
          "model_module_version": "1.5.0",
          "state": {
            "_dom_classes": [],
            "_model_module": "@jupyter-widgets/controls",
            "_model_module_version": "1.5.0",
            "_model_name": "HTMLModel",
            "_view_count": null,
            "_view_module": "@jupyter-widgets/controls",
            "_view_module_version": "1.5.0",
            "_view_name": "HTMLView",
            "description": "",
            "description_tooltip": null,
            "layout": "IPY_MODEL_d386fa47b31947fdbb43425965c7d71a",
            "placeholder": "​",
            "style": "IPY_MODEL_fbf2874b4363474cb7edb4af229b45ff",
            "value": " 9912422/9912422 [00:00&lt;00:00, 27843930.95it/s]"
          }
        },
        "b980605ab69c4f879d25eb46ca789c1e": {
          "model_module": "@jupyter-widgets/base",
          "model_name": "LayoutModel",
          "model_module_version": "1.2.0",
          "state": {
            "_model_module": "@jupyter-widgets/base",
            "_model_module_version": "1.2.0",
            "_model_name": "LayoutModel",
            "_view_count": null,
            "_view_module": "@jupyter-widgets/base",
            "_view_module_version": "1.2.0",
            "_view_name": "LayoutView",
            "align_content": null,
            "align_items": null,
            "align_self": null,
            "border": null,
            "bottom": null,
            "display": null,
            "flex": null,
            "flex_flow": null,
            "grid_area": null,
            "grid_auto_columns": null,
            "grid_auto_flow": null,
            "grid_auto_rows": null,
            "grid_column": null,
            "grid_gap": null,
            "grid_row": null,
            "grid_template_areas": null,
            "grid_template_columns": null,
            "grid_template_rows": null,
            "height": null,
            "justify_content": null,
            "justify_items": null,
            "left": null,
            "margin": null,
            "max_height": null,
            "max_width": null,
            "min_height": null,
            "min_width": null,
            "object_fit": null,
            "object_position": null,
            "order": null,
            "overflow": null,
            "overflow_x": null,
            "overflow_y": null,
            "padding": null,
            "right": null,
            "top": null,
            "visibility": null,
            "width": null
          }
        },
        "8d0ac60f7d1847a3be4796d24ca4a499": {
          "model_module": "@jupyter-widgets/base",
          "model_name": "LayoutModel",
          "model_module_version": "1.2.0",
          "state": {
            "_model_module": "@jupyter-widgets/base",
            "_model_module_version": "1.2.0",
            "_model_name": "LayoutModel",
            "_view_count": null,
            "_view_module": "@jupyter-widgets/base",
            "_view_module_version": "1.2.0",
            "_view_name": "LayoutView",
            "align_content": null,
            "align_items": null,
            "align_self": null,
            "border": null,
            "bottom": null,
            "display": null,
            "flex": null,
            "flex_flow": null,
            "grid_area": null,
            "grid_auto_columns": null,
            "grid_auto_flow": null,
            "grid_auto_rows": null,
            "grid_column": null,
            "grid_gap": null,
            "grid_row": null,
            "grid_template_areas": null,
            "grid_template_columns": null,
            "grid_template_rows": null,
            "height": null,
            "justify_content": null,
            "justify_items": null,
            "left": null,
            "margin": null,
            "max_height": null,
            "max_width": null,
            "min_height": null,
            "min_width": null,
            "object_fit": null,
            "object_position": null,
            "order": null,
            "overflow": null,
            "overflow_x": null,
            "overflow_y": null,
            "padding": null,
            "right": null,
            "top": null,
            "visibility": null,
            "width": null
          }
        },
        "29348fa26f654aa6a046233a666b884d": {
          "model_module": "@jupyter-widgets/controls",
          "model_name": "DescriptionStyleModel",
          "model_module_version": "1.5.0",
          "state": {
            "_model_module": "@jupyter-widgets/controls",
            "_model_module_version": "1.5.0",
            "_model_name": "DescriptionStyleModel",
            "_view_count": null,
            "_view_module": "@jupyter-widgets/base",
            "_view_module_version": "1.2.0",
            "_view_name": "StyleView",
            "description_width": ""
          }
        },
        "580f23411049492e960d42248cccc252": {
          "model_module": "@jupyter-widgets/base",
          "model_name": "LayoutModel",
          "model_module_version": "1.2.0",
          "state": {
            "_model_module": "@jupyter-widgets/base",
            "_model_module_version": "1.2.0",
            "_model_name": "LayoutModel",
            "_view_count": null,
            "_view_module": "@jupyter-widgets/base",
            "_view_module_version": "1.2.0",
            "_view_name": "LayoutView",
            "align_content": null,
            "align_items": null,
            "align_self": null,
            "border": null,
            "bottom": null,
            "display": null,
            "flex": null,
            "flex_flow": null,
            "grid_area": null,
            "grid_auto_columns": null,
            "grid_auto_flow": null,
            "grid_auto_rows": null,
            "grid_column": null,
            "grid_gap": null,
            "grid_row": null,
            "grid_template_areas": null,
            "grid_template_columns": null,
            "grid_template_rows": null,
            "height": null,
            "justify_content": null,
            "justify_items": null,
            "left": null,
            "margin": null,
            "max_height": null,
            "max_width": null,
            "min_height": null,
            "min_width": null,
            "object_fit": null,
            "object_position": null,
            "order": null,
            "overflow": null,
            "overflow_x": null,
            "overflow_y": null,
            "padding": null,
            "right": null,
            "top": null,
            "visibility": null,
            "width": null
          }
        },
        "093629c7773b43acb1c64abfb464d503": {
          "model_module": "@jupyter-widgets/controls",
          "model_name": "ProgressStyleModel",
          "model_module_version": "1.5.0",
          "state": {
            "_model_module": "@jupyter-widgets/controls",
            "_model_module_version": "1.5.0",
            "_model_name": "ProgressStyleModel",
            "_view_count": null,
            "_view_module": "@jupyter-widgets/base",
            "_view_module_version": "1.2.0",
            "_view_name": "StyleView",
            "bar_color": null,
            "description_width": ""
          }
        },
        "d386fa47b31947fdbb43425965c7d71a": {
          "model_module": "@jupyter-widgets/base",
          "model_name": "LayoutModel",
          "model_module_version": "1.2.0",
          "state": {
            "_model_module": "@jupyter-widgets/base",
            "_model_module_version": "1.2.0",
            "_model_name": "LayoutModel",
            "_view_count": null,
            "_view_module": "@jupyter-widgets/base",
            "_view_module_version": "1.2.0",
            "_view_name": "LayoutView",
            "align_content": null,
            "align_items": null,
            "align_self": null,
            "border": null,
            "bottom": null,
            "display": null,
            "flex": null,
            "flex_flow": null,
            "grid_area": null,
            "grid_auto_columns": null,
            "grid_auto_flow": null,
            "grid_auto_rows": null,
            "grid_column": null,
            "grid_gap": null,
            "grid_row": null,
            "grid_template_areas": null,
            "grid_template_columns": null,
            "grid_template_rows": null,
            "height": null,
            "justify_content": null,
            "justify_items": null,
            "left": null,
            "margin": null,
            "max_height": null,
            "max_width": null,
            "min_height": null,
            "min_width": null,
            "object_fit": null,
            "object_position": null,
            "order": null,
            "overflow": null,
            "overflow_x": null,
            "overflow_y": null,
            "padding": null,
            "right": null,
            "top": null,
            "visibility": null,
            "width": null
          }
        },
        "fbf2874b4363474cb7edb4af229b45ff": {
          "model_module": "@jupyter-widgets/controls",
          "model_name": "DescriptionStyleModel",
          "model_module_version": "1.5.0",
          "state": {
            "_model_module": "@jupyter-widgets/controls",
            "_model_module_version": "1.5.0",
            "_model_name": "DescriptionStyleModel",
            "_view_count": null,
            "_view_module": "@jupyter-widgets/base",
            "_view_module_version": "1.2.0",
            "_view_name": "StyleView",
            "description_width": ""
          }
        },
        "0eb44e6dc5b842c4a3c4bd31837f40d0": {
          "model_module": "@jupyter-widgets/controls",
          "model_name": "HBoxModel",
          "model_module_version": "1.5.0",
          "state": {
            "_dom_classes": [],
            "_model_module": "@jupyter-widgets/controls",
            "_model_module_version": "1.5.0",
            "_model_name": "HBoxModel",
            "_view_count": null,
            "_view_module": "@jupyter-widgets/controls",
            "_view_module_version": "1.5.0",
            "_view_name": "HBoxView",
            "box_style": "",
            "children": [
              "IPY_MODEL_f6474f12fb484f52b2024a43aaf934a1",
              "IPY_MODEL_f6905fdf3c4949f1883f8915a6e8a5c0",
              "IPY_MODEL_642d951b9a5644d5803a0bd2f1d25095"
            ],
            "layout": "IPY_MODEL_44b039a8f15a46f0bfe75d5b71cab981"
          }
        },
        "f6474f12fb484f52b2024a43aaf934a1": {
          "model_module": "@jupyter-widgets/controls",
          "model_name": "HTMLModel",
          "model_module_version": "1.5.0",
          "state": {
            "_dom_classes": [],
            "_model_module": "@jupyter-widgets/controls",
            "_model_module_version": "1.5.0",
            "_model_name": "HTMLModel",
            "_view_count": null,
            "_view_module": "@jupyter-widgets/controls",
            "_view_module_version": "1.5.0",
            "_view_name": "HTMLView",
            "description": "",
            "description_tooltip": null,
            "layout": "IPY_MODEL_e38b91e8455c487dafa3b9e61c6ef68d",
            "placeholder": "​",
            "style": "IPY_MODEL_82d34a6f53164eac8121290974a3290d",
            "value": "100%"
          }
        },
        "f6905fdf3c4949f1883f8915a6e8a5c0": {
          "model_module": "@jupyter-widgets/controls",
          "model_name": "FloatProgressModel",
          "model_module_version": "1.5.0",
          "state": {
            "_dom_classes": [],
            "_model_module": "@jupyter-widgets/controls",
            "_model_module_version": "1.5.0",
            "_model_name": "FloatProgressModel",
            "_view_count": null,
            "_view_module": "@jupyter-widgets/controls",
            "_view_module_version": "1.5.0",
            "_view_name": "ProgressView",
            "bar_style": "success",
            "description": "",
            "description_tooltip": null,
            "layout": "IPY_MODEL_42f024cfffa54edf8577f62295191a21",
            "max": 28881,
            "min": 0,
            "orientation": "horizontal",
            "style": "IPY_MODEL_873b902fb659406eb77d43e8b21795e7",
            "value": 28881
          }
        },
        "642d951b9a5644d5803a0bd2f1d25095": {
          "model_module": "@jupyter-widgets/controls",
          "model_name": "HTMLModel",
          "model_module_version": "1.5.0",
          "state": {
            "_dom_classes": [],
            "_model_module": "@jupyter-widgets/controls",
            "_model_module_version": "1.5.0",
            "_model_name": "HTMLModel",
            "_view_count": null,
            "_view_module": "@jupyter-widgets/controls",
            "_view_module_version": "1.5.0",
            "_view_name": "HTMLView",
            "description": "",
            "description_tooltip": null,
            "layout": "IPY_MODEL_a7d3c7d5441744079df29fc0709ea1d6",
            "placeholder": "​",
            "style": "IPY_MODEL_d92a4f99a932463db18d6cdfd8a6eead",
            "value": " 28881/28881 [00:00&lt;00:00, 1423283.91it/s]"
          }
        },
        "44b039a8f15a46f0bfe75d5b71cab981": {
          "model_module": "@jupyter-widgets/base",
          "model_name": "LayoutModel",
          "model_module_version": "1.2.0",
          "state": {
            "_model_module": "@jupyter-widgets/base",
            "_model_module_version": "1.2.0",
            "_model_name": "LayoutModel",
            "_view_count": null,
            "_view_module": "@jupyter-widgets/base",
            "_view_module_version": "1.2.0",
            "_view_name": "LayoutView",
            "align_content": null,
            "align_items": null,
            "align_self": null,
            "border": null,
            "bottom": null,
            "display": null,
            "flex": null,
            "flex_flow": null,
            "grid_area": null,
            "grid_auto_columns": null,
            "grid_auto_flow": null,
            "grid_auto_rows": null,
            "grid_column": null,
            "grid_gap": null,
            "grid_row": null,
            "grid_template_areas": null,
            "grid_template_columns": null,
            "grid_template_rows": null,
            "height": null,
            "justify_content": null,
            "justify_items": null,
            "left": null,
            "margin": null,
            "max_height": null,
            "max_width": null,
            "min_height": null,
            "min_width": null,
            "object_fit": null,
            "object_position": null,
            "order": null,
            "overflow": null,
            "overflow_x": null,
            "overflow_y": null,
            "padding": null,
            "right": null,
            "top": null,
            "visibility": null,
            "width": null
          }
        },
        "e38b91e8455c487dafa3b9e61c6ef68d": {
          "model_module": "@jupyter-widgets/base",
          "model_name": "LayoutModel",
          "model_module_version": "1.2.0",
          "state": {
            "_model_module": "@jupyter-widgets/base",
            "_model_module_version": "1.2.0",
            "_model_name": "LayoutModel",
            "_view_count": null,
            "_view_module": "@jupyter-widgets/base",
            "_view_module_version": "1.2.0",
            "_view_name": "LayoutView",
            "align_content": null,
            "align_items": null,
            "align_self": null,
            "border": null,
            "bottom": null,
            "display": null,
            "flex": null,
            "flex_flow": null,
            "grid_area": null,
            "grid_auto_columns": null,
            "grid_auto_flow": null,
            "grid_auto_rows": null,
            "grid_column": null,
            "grid_gap": null,
            "grid_row": null,
            "grid_template_areas": null,
            "grid_template_columns": null,
            "grid_template_rows": null,
            "height": null,
            "justify_content": null,
            "justify_items": null,
            "left": null,
            "margin": null,
            "max_height": null,
            "max_width": null,
            "min_height": null,
            "min_width": null,
            "object_fit": null,
            "object_position": null,
            "order": null,
            "overflow": null,
            "overflow_x": null,
            "overflow_y": null,
            "padding": null,
            "right": null,
            "top": null,
            "visibility": null,
            "width": null
          }
        },
        "82d34a6f53164eac8121290974a3290d": {
          "model_module": "@jupyter-widgets/controls",
          "model_name": "DescriptionStyleModel",
          "model_module_version": "1.5.0",
          "state": {
            "_model_module": "@jupyter-widgets/controls",
            "_model_module_version": "1.5.0",
            "_model_name": "DescriptionStyleModel",
            "_view_count": null,
            "_view_module": "@jupyter-widgets/base",
            "_view_module_version": "1.2.0",
            "_view_name": "StyleView",
            "description_width": ""
          }
        },
        "42f024cfffa54edf8577f62295191a21": {
          "model_module": "@jupyter-widgets/base",
          "model_name": "LayoutModel",
          "model_module_version": "1.2.0",
          "state": {
            "_model_module": "@jupyter-widgets/base",
            "_model_module_version": "1.2.0",
            "_model_name": "LayoutModel",
            "_view_count": null,
            "_view_module": "@jupyter-widgets/base",
            "_view_module_version": "1.2.0",
            "_view_name": "LayoutView",
            "align_content": null,
            "align_items": null,
            "align_self": null,
            "border": null,
            "bottom": null,
            "display": null,
            "flex": null,
            "flex_flow": null,
            "grid_area": null,
            "grid_auto_columns": null,
            "grid_auto_flow": null,
            "grid_auto_rows": null,
            "grid_column": null,
            "grid_gap": null,
            "grid_row": null,
            "grid_template_areas": null,
            "grid_template_columns": null,
            "grid_template_rows": null,
            "height": null,
            "justify_content": null,
            "justify_items": null,
            "left": null,
            "margin": null,
            "max_height": null,
            "max_width": null,
            "min_height": null,
            "min_width": null,
            "object_fit": null,
            "object_position": null,
            "order": null,
            "overflow": null,
            "overflow_x": null,
            "overflow_y": null,
            "padding": null,
            "right": null,
            "top": null,
            "visibility": null,
            "width": null
          }
        },
        "873b902fb659406eb77d43e8b21795e7": {
          "model_module": "@jupyter-widgets/controls",
          "model_name": "ProgressStyleModel",
          "model_module_version": "1.5.0",
          "state": {
            "_model_module": "@jupyter-widgets/controls",
            "_model_module_version": "1.5.0",
            "_model_name": "ProgressStyleModel",
            "_view_count": null,
            "_view_module": "@jupyter-widgets/base",
            "_view_module_version": "1.2.0",
            "_view_name": "StyleView",
            "bar_color": null,
            "description_width": ""
          }
        },
        "a7d3c7d5441744079df29fc0709ea1d6": {
          "model_module": "@jupyter-widgets/base",
          "model_name": "LayoutModel",
          "model_module_version": "1.2.0",
          "state": {
            "_model_module": "@jupyter-widgets/base",
            "_model_module_version": "1.2.0",
            "_model_name": "LayoutModel",
            "_view_count": null,
            "_view_module": "@jupyter-widgets/base",
            "_view_module_version": "1.2.0",
            "_view_name": "LayoutView",
            "align_content": null,
            "align_items": null,
            "align_self": null,
            "border": null,
            "bottom": null,
            "display": null,
            "flex": null,
            "flex_flow": null,
            "grid_area": null,
            "grid_auto_columns": null,
            "grid_auto_flow": null,
            "grid_auto_rows": null,
            "grid_column": null,
            "grid_gap": null,
            "grid_row": null,
            "grid_template_areas": null,
            "grid_template_columns": null,
            "grid_template_rows": null,
            "height": null,
            "justify_content": null,
            "justify_items": null,
            "left": null,
            "margin": null,
            "max_height": null,
            "max_width": null,
            "min_height": null,
            "min_width": null,
            "object_fit": null,
            "object_position": null,
            "order": null,
            "overflow": null,
            "overflow_x": null,
            "overflow_y": null,
            "padding": null,
            "right": null,
            "top": null,
            "visibility": null,
            "width": null
          }
        },
        "d92a4f99a932463db18d6cdfd8a6eead": {
          "model_module": "@jupyter-widgets/controls",
          "model_name": "DescriptionStyleModel",
          "model_module_version": "1.5.0",
          "state": {
            "_model_module": "@jupyter-widgets/controls",
            "_model_module_version": "1.5.0",
            "_model_name": "DescriptionStyleModel",
            "_view_count": null,
            "_view_module": "@jupyter-widgets/base",
            "_view_module_version": "1.2.0",
            "_view_name": "StyleView",
            "description_width": ""
          }
        },
        "91e17a61d0624e9bb31e324e63d83db2": {
          "model_module": "@jupyter-widgets/controls",
          "model_name": "HBoxModel",
          "model_module_version": "1.5.0",
          "state": {
            "_dom_classes": [],
            "_model_module": "@jupyter-widgets/controls",
            "_model_module_version": "1.5.0",
            "_model_name": "HBoxModel",
            "_view_count": null,
            "_view_module": "@jupyter-widgets/controls",
            "_view_module_version": "1.5.0",
            "_view_name": "HBoxView",
            "box_style": "",
            "children": [
              "IPY_MODEL_c44bd9f57f434c01a61e5685ea56b06d",
              "IPY_MODEL_bcc3059127ef4642bbf88b1c579ae5a6",
              "IPY_MODEL_8470eedae0db42ffb57faad60b2e7c5c"
            ],
            "layout": "IPY_MODEL_002be63059914991b42db9d02f892559"
          }
        },
        "c44bd9f57f434c01a61e5685ea56b06d": {
          "model_module": "@jupyter-widgets/controls",
          "model_name": "HTMLModel",
          "model_module_version": "1.5.0",
          "state": {
            "_dom_classes": [],
            "_model_module": "@jupyter-widgets/controls",
            "_model_module_version": "1.5.0",
            "_model_name": "HTMLModel",
            "_view_count": null,
            "_view_module": "@jupyter-widgets/controls",
            "_view_module_version": "1.5.0",
            "_view_name": "HTMLView",
            "description": "",
            "description_tooltip": null,
            "layout": "IPY_MODEL_e57195de2b784ea2b30bc980bb14e599",
            "placeholder": "​",
            "style": "IPY_MODEL_20b4f14e3c874b098d78df48e394d221",
            "value": "100%"
          }
        },
        "bcc3059127ef4642bbf88b1c579ae5a6": {
          "model_module": "@jupyter-widgets/controls",
          "model_name": "FloatProgressModel",
          "model_module_version": "1.5.0",
          "state": {
            "_dom_classes": [],
            "_model_module": "@jupyter-widgets/controls",
            "_model_module_version": "1.5.0",
            "_model_name": "FloatProgressModel",
            "_view_count": null,
            "_view_module": "@jupyter-widgets/controls",
            "_view_module_version": "1.5.0",
            "_view_name": "ProgressView",
            "bar_style": "success",
            "description": "",
            "description_tooltip": null,
            "layout": "IPY_MODEL_45d93529d80b4904973c55da8a69beff",
            "max": 1648877,
            "min": 0,
            "orientation": "horizontal",
            "style": "IPY_MODEL_a75487e38f5e4abbb0b24ac22fcd8a87",
            "value": 1648877
          }
        },
        "8470eedae0db42ffb57faad60b2e7c5c": {
          "model_module": "@jupyter-widgets/controls",
          "model_name": "HTMLModel",
          "model_module_version": "1.5.0",
          "state": {
            "_dom_classes": [],
            "_model_module": "@jupyter-widgets/controls",
            "_model_module_version": "1.5.0",
            "_model_name": "HTMLModel",
            "_view_count": null,
            "_view_module": "@jupyter-widgets/controls",
            "_view_module_version": "1.5.0",
            "_view_name": "HTMLView",
            "description": "",
            "description_tooltip": null,
            "layout": "IPY_MODEL_a43fe29b3b394e97b2579417ce0b5b85",
            "placeholder": "​",
            "style": "IPY_MODEL_a17dbba594484523ae082f48d8ec06c3",
            "value": " 1648877/1648877 [00:00&lt;00:00, 6602555.10it/s]"
          }
        },
        "002be63059914991b42db9d02f892559": {
          "model_module": "@jupyter-widgets/base",
          "model_name": "LayoutModel",
          "model_module_version": "1.2.0",
          "state": {
            "_model_module": "@jupyter-widgets/base",
            "_model_module_version": "1.2.0",
            "_model_name": "LayoutModel",
            "_view_count": null,
            "_view_module": "@jupyter-widgets/base",
            "_view_module_version": "1.2.0",
            "_view_name": "LayoutView",
            "align_content": null,
            "align_items": null,
            "align_self": null,
            "border": null,
            "bottom": null,
            "display": null,
            "flex": null,
            "flex_flow": null,
            "grid_area": null,
            "grid_auto_columns": null,
            "grid_auto_flow": null,
            "grid_auto_rows": null,
            "grid_column": null,
            "grid_gap": null,
            "grid_row": null,
            "grid_template_areas": null,
            "grid_template_columns": null,
            "grid_template_rows": null,
            "height": null,
            "justify_content": null,
            "justify_items": null,
            "left": null,
            "margin": null,
            "max_height": null,
            "max_width": null,
            "min_height": null,
            "min_width": null,
            "object_fit": null,
            "object_position": null,
            "order": null,
            "overflow": null,
            "overflow_x": null,
            "overflow_y": null,
            "padding": null,
            "right": null,
            "top": null,
            "visibility": null,
            "width": null
          }
        },
        "e57195de2b784ea2b30bc980bb14e599": {
          "model_module": "@jupyter-widgets/base",
          "model_name": "LayoutModel",
          "model_module_version": "1.2.0",
          "state": {
            "_model_module": "@jupyter-widgets/base",
            "_model_module_version": "1.2.0",
            "_model_name": "LayoutModel",
            "_view_count": null,
            "_view_module": "@jupyter-widgets/base",
            "_view_module_version": "1.2.0",
            "_view_name": "LayoutView",
            "align_content": null,
            "align_items": null,
            "align_self": null,
            "border": null,
            "bottom": null,
            "display": null,
            "flex": null,
            "flex_flow": null,
            "grid_area": null,
            "grid_auto_columns": null,
            "grid_auto_flow": null,
            "grid_auto_rows": null,
            "grid_column": null,
            "grid_gap": null,
            "grid_row": null,
            "grid_template_areas": null,
            "grid_template_columns": null,
            "grid_template_rows": null,
            "height": null,
            "justify_content": null,
            "justify_items": null,
            "left": null,
            "margin": null,
            "max_height": null,
            "max_width": null,
            "min_height": null,
            "min_width": null,
            "object_fit": null,
            "object_position": null,
            "order": null,
            "overflow": null,
            "overflow_x": null,
            "overflow_y": null,
            "padding": null,
            "right": null,
            "top": null,
            "visibility": null,
            "width": null
          }
        },
        "20b4f14e3c874b098d78df48e394d221": {
          "model_module": "@jupyter-widgets/controls",
          "model_name": "DescriptionStyleModel",
          "model_module_version": "1.5.0",
          "state": {
            "_model_module": "@jupyter-widgets/controls",
            "_model_module_version": "1.5.0",
            "_model_name": "DescriptionStyleModel",
            "_view_count": null,
            "_view_module": "@jupyter-widgets/base",
            "_view_module_version": "1.2.0",
            "_view_name": "StyleView",
            "description_width": ""
          }
        },
        "45d93529d80b4904973c55da8a69beff": {
          "model_module": "@jupyter-widgets/base",
          "model_name": "LayoutModel",
          "model_module_version": "1.2.0",
          "state": {
            "_model_module": "@jupyter-widgets/base",
            "_model_module_version": "1.2.0",
            "_model_name": "LayoutModel",
            "_view_count": null,
            "_view_module": "@jupyter-widgets/base",
            "_view_module_version": "1.2.0",
            "_view_name": "LayoutView",
            "align_content": null,
            "align_items": null,
            "align_self": null,
            "border": null,
            "bottom": null,
            "display": null,
            "flex": null,
            "flex_flow": null,
            "grid_area": null,
            "grid_auto_columns": null,
            "grid_auto_flow": null,
            "grid_auto_rows": null,
            "grid_column": null,
            "grid_gap": null,
            "grid_row": null,
            "grid_template_areas": null,
            "grid_template_columns": null,
            "grid_template_rows": null,
            "height": null,
            "justify_content": null,
            "justify_items": null,
            "left": null,
            "margin": null,
            "max_height": null,
            "max_width": null,
            "min_height": null,
            "min_width": null,
            "object_fit": null,
            "object_position": null,
            "order": null,
            "overflow": null,
            "overflow_x": null,
            "overflow_y": null,
            "padding": null,
            "right": null,
            "top": null,
            "visibility": null,
            "width": null
          }
        },
        "a75487e38f5e4abbb0b24ac22fcd8a87": {
          "model_module": "@jupyter-widgets/controls",
          "model_name": "ProgressStyleModel",
          "model_module_version": "1.5.0",
          "state": {
            "_model_module": "@jupyter-widgets/controls",
            "_model_module_version": "1.5.0",
            "_model_name": "ProgressStyleModel",
            "_view_count": null,
            "_view_module": "@jupyter-widgets/base",
            "_view_module_version": "1.2.0",
            "_view_name": "StyleView",
            "bar_color": null,
            "description_width": ""
          }
        },
        "a43fe29b3b394e97b2579417ce0b5b85": {
          "model_module": "@jupyter-widgets/base",
          "model_name": "LayoutModel",
          "model_module_version": "1.2.0",
          "state": {
            "_model_module": "@jupyter-widgets/base",
            "_model_module_version": "1.2.0",
            "_model_name": "LayoutModel",
            "_view_count": null,
            "_view_module": "@jupyter-widgets/base",
            "_view_module_version": "1.2.0",
            "_view_name": "LayoutView",
            "align_content": null,
            "align_items": null,
            "align_self": null,
            "border": null,
            "bottom": null,
            "display": null,
            "flex": null,
            "flex_flow": null,
            "grid_area": null,
            "grid_auto_columns": null,
            "grid_auto_flow": null,
            "grid_auto_rows": null,
            "grid_column": null,
            "grid_gap": null,
            "grid_row": null,
            "grid_template_areas": null,
            "grid_template_columns": null,
            "grid_template_rows": null,
            "height": null,
            "justify_content": null,
            "justify_items": null,
            "left": null,
            "margin": null,
            "max_height": null,
            "max_width": null,
            "min_height": null,
            "min_width": null,
            "object_fit": null,
            "object_position": null,
            "order": null,
            "overflow": null,
            "overflow_x": null,
            "overflow_y": null,
            "padding": null,
            "right": null,
            "top": null,
            "visibility": null,
            "width": null
          }
        },
        "a17dbba594484523ae082f48d8ec06c3": {
          "model_module": "@jupyter-widgets/controls",
          "model_name": "DescriptionStyleModel",
          "model_module_version": "1.5.0",
          "state": {
            "_model_module": "@jupyter-widgets/controls",
            "_model_module_version": "1.5.0",
            "_model_name": "DescriptionStyleModel",
            "_view_count": null,
            "_view_module": "@jupyter-widgets/base",
            "_view_module_version": "1.2.0",
            "_view_name": "StyleView",
            "description_width": ""
          }
        },
        "db792935fba942a5976d883c30c48e58": {
          "model_module": "@jupyter-widgets/controls",
          "model_name": "HBoxModel",
          "model_module_version": "1.5.0",
          "state": {
            "_dom_classes": [],
            "_model_module": "@jupyter-widgets/controls",
            "_model_module_version": "1.5.0",
            "_model_name": "HBoxModel",
            "_view_count": null,
            "_view_module": "@jupyter-widgets/controls",
            "_view_module_version": "1.5.0",
            "_view_name": "HBoxView",
            "box_style": "",
            "children": [
              "IPY_MODEL_d22b2903bf394dc1a3a0d91fc2d34341",
              "IPY_MODEL_a9ba4e1d9bfd45a29bc1f33c5a0700dc",
              "IPY_MODEL_56a1dc8e96c240ad9611945937e1560c"
            ],
            "layout": "IPY_MODEL_f0ff2769fea74f72b13bbd1fec67dca1"
          }
        },
        "d22b2903bf394dc1a3a0d91fc2d34341": {
          "model_module": "@jupyter-widgets/controls",
          "model_name": "HTMLModel",
          "model_module_version": "1.5.0",
          "state": {
            "_dom_classes": [],
            "_model_module": "@jupyter-widgets/controls",
            "_model_module_version": "1.5.0",
            "_model_name": "HTMLModel",
            "_view_count": null,
            "_view_module": "@jupyter-widgets/controls",
            "_view_module_version": "1.5.0",
            "_view_name": "HTMLView",
            "description": "",
            "description_tooltip": null,
            "layout": "IPY_MODEL_a00ac028785b43119024fe2a1fbf6d4e",
            "placeholder": "​",
            "style": "IPY_MODEL_45516fb956fd4dafb32efae728bc9fb9",
            "value": "100%"
          }
        },
        "a9ba4e1d9bfd45a29bc1f33c5a0700dc": {
          "model_module": "@jupyter-widgets/controls",
          "model_name": "FloatProgressModel",
          "model_module_version": "1.5.0",
          "state": {
            "_dom_classes": [],
            "_model_module": "@jupyter-widgets/controls",
            "_model_module_version": "1.5.0",
            "_model_name": "FloatProgressModel",
            "_view_count": null,
            "_view_module": "@jupyter-widgets/controls",
            "_view_module_version": "1.5.0",
            "_view_name": "ProgressView",
            "bar_style": "success",
            "description": "",
            "description_tooltip": null,
            "layout": "IPY_MODEL_d04e633b38574b1fb42b7052dba68741",
            "max": 4542,
            "min": 0,
            "orientation": "horizontal",
            "style": "IPY_MODEL_2806189f979c49269f9152640d5906f5",
            "value": 4542
          }
        },
        "56a1dc8e96c240ad9611945937e1560c": {
          "model_module": "@jupyter-widgets/controls",
          "model_name": "HTMLModel",
          "model_module_version": "1.5.0",
          "state": {
            "_dom_classes": [],
            "_model_module": "@jupyter-widgets/controls",
            "_model_module_version": "1.5.0",
            "_model_name": "HTMLModel",
            "_view_count": null,
            "_view_module": "@jupyter-widgets/controls",
            "_view_module_version": "1.5.0",
            "_view_name": "HTMLView",
            "description": "",
            "description_tooltip": null,
            "layout": "IPY_MODEL_ef106ad7f80540ef93b360c26e71a998",
            "placeholder": "​",
            "style": "IPY_MODEL_179b1850f2d14596a44765f705ded9f6",
            "value": " 4542/4542 [00:00&lt;00:00, 272559.25it/s]"
          }
        },
        "f0ff2769fea74f72b13bbd1fec67dca1": {
          "model_module": "@jupyter-widgets/base",
          "model_name": "LayoutModel",
          "model_module_version": "1.2.0",
          "state": {
            "_model_module": "@jupyter-widgets/base",
            "_model_module_version": "1.2.0",
            "_model_name": "LayoutModel",
            "_view_count": null,
            "_view_module": "@jupyter-widgets/base",
            "_view_module_version": "1.2.0",
            "_view_name": "LayoutView",
            "align_content": null,
            "align_items": null,
            "align_self": null,
            "border": null,
            "bottom": null,
            "display": null,
            "flex": null,
            "flex_flow": null,
            "grid_area": null,
            "grid_auto_columns": null,
            "grid_auto_flow": null,
            "grid_auto_rows": null,
            "grid_column": null,
            "grid_gap": null,
            "grid_row": null,
            "grid_template_areas": null,
            "grid_template_columns": null,
            "grid_template_rows": null,
            "height": null,
            "justify_content": null,
            "justify_items": null,
            "left": null,
            "margin": null,
            "max_height": null,
            "max_width": null,
            "min_height": null,
            "min_width": null,
            "object_fit": null,
            "object_position": null,
            "order": null,
            "overflow": null,
            "overflow_x": null,
            "overflow_y": null,
            "padding": null,
            "right": null,
            "top": null,
            "visibility": null,
            "width": null
          }
        },
        "a00ac028785b43119024fe2a1fbf6d4e": {
          "model_module": "@jupyter-widgets/base",
          "model_name": "LayoutModel",
          "model_module_version": "1.2.0",
          "state": {
            "_model_module": "@jupyter-widgets/base",
            "_model_module_version": "1.2.0",
            "_model_name": "LayoutModel",
            "_view_count": null,
            "_view_module": "@jupyter-widgets/base",
            "_view_module_version": "1.2.0",
            "_view_name": "LayoutView",
            "align_content": null,
            "align_items": null,
            "align_self": null,
            "border": null,
            "bottom": null,
            "display": null,
            "flex": null,
            "flex_flow": null,
            "grid_area": null,
            "grid_auto_columns": null,
            "grid_auto_flow": null,
            "grid_auto_rows": null,
            "grid_column": null,
            "grid_gap": null,
            "grid_row": null,
            "grid_template_areas": null,
            "grid_template_columns": null,
            "grid_template_rows": null,
            "height": null,
            "justify_content": null,
            "justify_items": null,
            "left": null,
            "margin": null,
            "max_height": null,
            "max_width": null,
            "min_height": null,
            "min_width": null,
            "object_fit": null,
            "object_position": null,
            "order": null,
            "overflow": null,
            "overflow_x": null,
            "overflow_y": null,
            "padding": null,
            "right": null,
            "top": null,
            "visibility": null,
            "width": null
          }
        },
        "45516fb956fd4dafb32efae728bc9fb9": {
          "model_module": "@jupyter-widgets/controls",
          "model_name": "DescriptionStyleModel",
          "model_module_version": "1.5.0",
          "state": {
            "_model_module": "@jupyter-widgets/controls",
            "_model_module_version": "1.5.0",
            "_model_name": "DescriptionStyleModel",
            "_view_count": null,
            "_view_module": "@jupyter-widgets/base",
            "_view_module_version": "1.2.0",
            "_view_name": "StyleView",
            "description_width": ""
          }
        },
        "d04e633b38574b1fb42b7052dba68741": {
          "model_module": "@jupyter-widgets/base",
          "model_name": "LayoutModel",
          "model_module_version": "1.2.0",
          "state": {
            "_model_module": "@jupyter-widgets/base",
            "_model_module_version": "1.2.0",
            "_model_name": "LayoutModel",
            "_view_count": null,
            "_view_module": "@jupyter-widgets/base",
            "_view_module_version": "1.2.0",
            "_view_name": "LayoutView",
            "align_content": null,
            "align_items": null,
            "align_self": null,
            "border": null,
            "bottom": null,
            "display": null,
            "flex": null,
            "flex_flow": null,
            "grid_area": null,
            "grid_auto_columns": null,
            "grid_auto_flow": null,
            "grid_auto_rows": null,
            "grid_column": null,
            "grid_gap": null,
            "grid_row": null,
            "grid_template_areas": null,
            "grid_template_columns": null,
            "grid_template_rows": null,
            "height": null,
            "justify_content": null,
            "justify_items": null,
            "left": null,
            "margin": null,
            "max_height": null,
            "max_width": null,
            "min_height": null,
            "min_width": null,
            "object_fit": null,
            "object_position": null,
            "order": null,
            "overflow": null,
            "overflow_x": null,
            "overflow_y": null,
            "padding": null,
            "right": null,
            "top": null,
            "visibility": null,
            "width": null
          }
        },
        "2806189f979c49269f9152640d5906f5": {
          "model_module": "@jupyter-widgets/controls",
          "model_name": "ProgressStyleModel",
          "model_module_version": "1.5.0",
          "state": {
            "_model_module": "@jupyter-widgets/controls",
            "_model_module_version": "1.5.0",
            "_model_name": "ProgressStyleModel",
            "_view_count": null,
            "_view_module": "@jupyter-widgets/base",
            "_view_module_version": "1.2.0",
            "_view_name": "StyleView",
            "bar_color": null,
            "description_width": ""
          }
        },
        "ef106ad7f80540ef93b360c26e71a998": {
          "model_module": "@jupyter-widgets/base",
          "model_name": "LayoutModel",
          "model_module_version": "1.2.0",
          "state": {
            "_model_module": "@jupyter-widgets/base",
            "_model_module_version": "1.2.0",
            "_model_name": "LayoutModel",
            "_view_count": null,
            "_view_module": "@jupyter-widgets/base",
            "_view_module_version": "1.2.0",
            "_view_name": "LayoutView",
            "align_content": null,
            "align_items": null,
            "align_self": null,
            "border": null,
            "bottom": null,
            "display": null,
            "flex": null,
            "flex_flow": null,
            "grid_area": null,
            "grid_auto_columns": null,
            "grid_auto_flow": null,
            "grid_auto_rows": null,
            "grid_column": null,
            "grid_gap": null,
            "grid_row": null,
            "grid_template_areas": null,
            "grid_template_columns": null,
            "grid_template_rows": null,
            "height": null,
            "justify_content": null,
            "justify_items": null,
            "left": null,
            "margin": null,
            "max_height": null,
            "max_width": null,
            "min_height": null,
            "min_width": null,
            "object_fit": null,
            "object_position": null,
            "order": null,
            "overflow": null,
            "overflow_x": null,
            "overflow_y": null,
            "padding": null,
            "right": null,
            "top": null,
            "visibility": null,
            "width": null
          }
        },
        "179b1850f2d14596a44765f705ded9f6": {
          "model_module": "@jupyter-widgets/controls",
          "model_name": "DescriptionStyleModel",
          "model_module_version": "1.5.0",
          "state": {
            "_model_module": "@jupyter-widgets/controls",
            "_model_module_version": "1.5.0",
            "_model_name": "DescriptionStyleModel",
            "_view_count": null,
            "_view_module": "@jupyter-widgets/base",
            "_view_module_version": "1.2.0",
            "_view_name": "StyleView",
            "description_width": ""
          }
        }
      }
    }
  },
  "cells": [
    {
      "cell_type": "code",
      "execution_count": null,
      "metadata": {
        "colab": {
          "base_uri": "https://localhost:8080/",
          "height": 443,
          "referenced_widgets": [
            "c6c09140d2e546668a8ff81dc2444c44",
            "adc2cfdf9e404c84b1802b79a0bb4a4c",
            "3bd845a7fdf3464f96d0058033888a78",
            "123b533d7c6e45f79d0de961efe66eec",
            "b980605ab69c4f879d25eb46ca789c1e",
            "8d0ac60f7d1847a3be4796d24ca4a499",
            "29348fa26f654aa6a046233a666b884d",
            "580f23411049492e960d42248cccc252",
            "093629c7773b43acb1c64abfb464d503",
            "d386fa47b31947fdbb43425965c7d71a",
            "fbf2874b4363474cb7edb4af229b45ff",
            "0eb44e6dc5b842c4a3c4bd31837f40d0",
            "f6474f12fb484f52b2024a43aaf934a1",
            "f6905fdf3c4949f1883f8915a6e8a5c0",
            "642d951b9a5644d5803a0bd2f1d25095",
            "44b039a8f15a46f0bfe75d5b71cab981",
            "e38b91e8455c487dafa3b9e61c6ef68d",
            "82d34a6f53164eac8121290974a3290d",
            "42f024cfffa54edf8577f62295191a21",
            "873b902fb659406eb77d43e8b21795e7",
            "a7d3c7d5441744079df29fc0709ea1d6",
            "d92a4f99a932463db18d6cdfd8a6eead",
            "91e17a61d0624e9bb31e324e63d83db2",
            "c44bd9f57f434c01a61e5685ea56b06d",
            "bcc3059127ef4642bbf88b1c579ae5a6",
            "8470eedae0db42ffb57faad60b2e7c5c",
            "002be63059914991b42db9d02f892559",
            "e57195de2b784ea2b30bc980bb14e599",
            "20b4f14e3c874b098d78df48e394d221",
            "45d93529d80b4904973c55da8a69beff",
            "a75487e38f5e4abbb0b24ac22fcd8a87",
            "a43fe29b3b394e97b2579417ce0b5b85",
            "a17dbba594484523ae082f48d8ec06c3",
            "db792935fba942a5976d883c30c48e58",
            "d22b2903bf394dc1a3a0d91fc2d34341",
            "a9ba4e1d9bfd45a29bc1f33c5a0700dc",
            "56a1dc8e96c240ad9611945937e1560c",
            "f0ff2769fea74f72b13bbd1fec67dca1",
            "a00ac028785b43119024fe2a1fbf6d4e",
            "45516fb956fd4dafb32efae728bc9fb9",
            "d04e633b38574b1fb42b7052dba68741",
            "2806189f979c49269f9152640d5906f5",
            "ef106ad7f80540ef93b360c26e71a998",
            "179b1850f2d14596a44765f705ded9f6"
          ]
        },
        "id": "JpGPFnLhmCbF",
        "outputId": "becda470-44dd-4440-a93c-2d7aace1cc22"
      },
      "outputs": [
        {
          "output_type": "stream",
          "name": "stdout",
          "text": [
            "Downloading http://yann.lecun.com/exdb/mnist/train-images-idx3-ubyte.gz\n",
            "Downloading http://yann.lecun.com/exdb/mnist/train-images-idx3-ubyte.gz to /Users/avinash1/dataset/MNIST/raw/train-images-idx3-ubyte.gz\n"
          ]
        },
        {
          "output_type": "display_data",
          "data": {
            "text/plain": [
              "  0%|          | 0/9912422 [00:00<?, ?it/s]"
            ],
            "application/vnd.jupyter.widget-view+json": {
              "version_major": 2,
              "version_minor": 0,
              "model_id": "c6c09140d2e546668a8ff81dc2444c44"
            }
          },
          "metadata": {}
        },
        {
          "output_type": "stream",
          "name": "stdout",
          "text": [
            "Extracting /Users/avinash1/dataset/MNIST/raw/train-images-idx3-ubyte.gz to /Users/avinash1/dataset/MNIST/raw\n",
            "\n",
            "Downloading http://yann.lecun.com/exdb/mnist/train-labels-idx1-ubyte.gz\n",
            "Downloading http://yann.lecun.com/exdb/mnist/train-labels-idx1-ubyte.gz to /Users/avinash1/dataset/MNIST/raw/train-labels-idx1-ubyte.gz\n"
          ]
        },
        {
          "output_type": "display_data",
          "data": {
            "text/plain": [
              "  0%|          | 0/28881 [00:00<?, ?it/s]"
            ],
            "application/vnd.jupyter.widget-view+json": {
              "version_major": 2,
              "version_minor": 0,
              "model_id": "0eb44e6dc5b842c4a3c4bd31837f40d0"
            }
          },
          "metadata": {}
        },
        {
          "output_type": "stream",
          "name": "stdout",
          "text": [
            "Extracting /Users/avinash1/dataset/MNIST/raw/train-labels-idx1-ubyte.gz to /Users/avinash1/dataset/MNIST/raw\n",
            "\n",
            "Downloading http://yann.lecun.com/exdb/mnist/t10k-images-idx3-ubyte.gz\n",
            "Downloading http://yann.lecun.com/exdb/mnist/t10k-images-idx3-ubyte.gz to /Users/avinash1/dataset/MNIST/raw/t10k-images-idx3-ubyte.gz\n"
          ]
        },
        {
          "output_type": "display_data",
          "data": {
            "text/plain": [
              "  0%|          | 0/1648877 [00:00<?, ?it/s]"
            ],
            "application/vnd.jupyter.widget-view+json": {
              "version_major": 2,
              "version_minor": 0,
              "model_id": "91e17a61d0624e9bb31e324e63d83db2"
            }
          },
          "metadata": {}
        },
        {
          "output_type": "stream",
          "name": "stdout",
          "text": [
            "Extracting /Users/avinash1/dataset/MNIST/raw/t10k-images-idx3-ubyte.gz to /Users/avinash1/dataset/MNIST/raw\n",
            "\n",
            "Downloading http://yann.lecun.com/exdb/mnist/t10k-labels-idx1-ubyte.gz\n",
            "Downloading http://yann.lecun.com/exdb/mnist/t10k-labels-idx1-ubyte.gz to /Users/avinash1/dataset/MNIST/raw/t10k-labels-idx1-ubyte.gz\n"
          ]
        },
        {
          "output_type": "display_data",
          "data": {
            "text/plain": [
              "  0%|          | 0/4542 [00:00<?, ?it/s]"
            ],
            "application/vnd.jupyter.widget-view+json": {
              "version_major": 2,
              "version_minor": 0,
              "model_id": "db792935fba942a5976d883c30c48e58"
            }
          },
          "metadata": {}
        },
        {
          "output_type": "stream",
          "name": "stdout",
          "text": [
            "Extracting /Users/avinash1/dataset/MNIST/raw/t10k-labels-idx1-ubyte.gz to /Users/avinash1/dataset/MNIST/raw\n",
            "\n"
          ]
        }
      ],
      "source": [
        "import torch \n",
        "import torchvision\n",
        "from torch.utils.data import Dataset, DataLoader    \n",
        "import torch.autograd as autograd       \n",
        "from torch import Tensor                \n",
        "import torch.nn as nn                   \n",
        "import torch.nn.functional as F         \n",
        "import torch.optim as optim             \n",
        "from torch.jit import script, trace     \n",
        "from torchvision import datasets, models, transforms    \n",
        "import torchvision.transforms as transforms             \n",
        "\n",
        "\n",
        "num_epochs = 5\n",
        "num_classes = 10\n",
        "batch_size = 10\n",
        "learning_rate = 0.001\n",
        "\n",
        "DATA_PATH = '/Users/avinash1/dataset/'\n",
        "MODEL_STORE_PATH = '/Users/avinash1/models'\n",
        "\n",
        "trans = transforms.Compose([transforms.ToTensor(), transforms.Normalize((0.1307,), (0.3081,))])\n",
        "\n",
        "# MNIST dataset\n",
        "train_dataset = torchvision.datasets.MNIST(root=DATA_PATH, train=True, transform=trans, download=True)\n",
        "test_dataset = torchvision.datasets.MNIST(root=DATA_PATH, train=False, transform=trans,download=True)\n",
        "train_loader = DataLoader(dataset=train_dataset, batch_size=batch_size, shuffle=True)\n",
        "test_loader = DataLoader(dataset=test_dataset, batch_size=batch_size, shuffle=False)\n"
      ]
    },
    {
      "cell_type": "code",
      "source": [
        "train_dataset"
      ],
      "metadata": {
        "colab": {
          "base_uri": "https://localhost:8080/"
        },
        "id": "TVerzVAMmLHI",
        "outputId": "8c882a4a-be4f-45ad-f6c0-1d2e555794ba"
      },
      "execution_count": null,
      "outputs": [
        {
          "output_type": "execute_result",
          "data": {
            "text/plain": [
              "Dataset MNIST\n",
              "    Number of datapoints: 60000\n",
              "    Root location: /Users/avinash1/dataset/\n",
              "    Split: Train\n",
              "    StandardTransform\n",
              "Transform: Compose(\n",
              "               ToTensor()\n",
              "               Normalize(mean=(0.1307,), std=(0.3081,))\n",
              "           )"
            ]
          },
          "metadata": {},
          "execution_count": 4
        }
      ]
    },
    {
      "cell_type": "code",
      "source": [
        "test_dataset"
      ],
      "metadata": {
        "colab": {
          "base_uri": "https://localhost:8080/"
        },
        "id": "iBIsK3RemODv",
        "outputId": "c67ebf7e-7f0e-4181-fead-8c73496fe310"
      },
      "execution_count": null,
      "outputs": [
        {
          "output_type": "execute_result",
          "data": {
            "text/plain": [
              "Dataset MNIST\n",
              "    Number of datapoints: 10000\n",
              "    Root location: /Users/avinash1/dataset/\n",
              "    Split: Test\n",
              "    StandardTransform\n",
              "Transform: Compose(\n",
              "               ToTensor()\n",
              "               Normalize(mean=(0.1307,), std=(0.3081,))\n",
              "           )"
            ]
          },
          "metadata": {},
          "execution_count": 5
        }
      ]
    },
    {
      "cell_type": "code",
      "source": [
        "bs = [64,1024]\n",
        "train_loader1 = DataLoader(train_dataset, batch_size=bs[0], shuffle=True)\n",
        "test_loader1 = DataLoader(test_dataset, batch_size=bs[0], shuffle=True)\n",
        "\n",
        "train_loader2 = DataLoader(train_dataset, batch_size=bs[1], shuffle=True)\n",
        "test_loader2 = DataLoader(test_dataset, batch_size=bs[1], shuffle=True)"
      ],
      "metadata": {
        "id": "PBdaniVImk8u"
      },
      "execution_count": null,
      "outputs": []
    },
    {
      "cell_type": "code",
      "source": [
        "def CalParameters(model):\n",
        "    val = sum(params.numel() for params in model.parameters() if params.requires_grad)\n",
        "    return val"
      ],
      "metadata": {
        "id": "mkRzWGUqmuYv"
      },
      "execution_count": null,
      "outputs": []
    },
    {
      "cell_type": "code",
      "source": [
        "class Model1(nn.Module):\n",
        "    def __init__(self, in_features=784, h2=20, h3=40, out_features=10):\n",
        "        super().__init__()\n",
        "        self.fc1 = nn.Linear(in_features,h2)    \n",
        "        self.fc2 = nn.Linear(h2, h3)\n",
        "        self.out = nn.Linear(h3, out_features)\n",
        "        \n",
        "        \n",
        "    def forward(self, x):\n",
        "        x = F.relu(self.fc1(x))\n",
        "        x = F.relu(self.fc2(x))\n",
        "        x = self.out(x)\n",
        "        return x"
      ],
      "metadata": {
        "id": "l4f4eYqOmxST"
      },
      "execution_count": null,
      "outputs": []
    },
    {
      "cell_type": "code",
      "source": [
        "model1=Model1()\n",
        "mod1_parameters=CalParameters(model1)\n",
        "print(mod1_parameters)"
      ],
      "metadata": {
        "colab": {
          "base_uri": "https://localhost:8080/"
        },
        "id": "Czf0iXurmzlf",
        "outputId": "eadc0701-1b12-4036-d2ae-e9cb7cc92d0a"
      },
      "execution_count": null,
      "outputs": [
        {
          "output_type": "stream",
          "name": "stdout",
          "text": [
            "16950\n"
          ]
        }
      ]
    },
    {
      "cell_type": "code",
      "source": [
        "Criterion_loss1 = nn.CrossEntropyLoss()"
      ],
      "metadata": {
        "id": "K6TmpfKfm1lz"
      },
      "execution_count": null,
      "outputs": []
    },
    {
      "cell_type": "code",
      "source": [
        "optimize1 = torch.optim.Adam(model1.parameters(), lr=0.001)"
      ],
      "metadata": {
        "id": "kilmfVu8nBji"
      },
      "execution_count": null,
      "outputs": []
    },
    {
      "cell_type": "code",
      "source": [
        "epochs = 10\n",
        "train_corr_model1 = []\n",
        "test_corr_model1 = []\n",
        "train_losses_mod1=[]\n",
        "test_losses_mod1=[]\n",
        "for i in range(epochs):\n",
        "    train_corr = 0\n",
        "    test_corr = 0\n",
        "\n",
        "   \n",
        "    for b, (X_train, y_train) in enumerate(train_loader1):\n",
        "       \n",
        "        y_pred = model1(X_train.view(-1,784))  \n",
        "        training_loss = Criterion_loss1(y_pred, y_train)\n",
        "\n",
        "        predicted = torch.max(y_pred.data, 1)[1]\n",
        "        batch_corr = (predicted == y_train).sum()\n",
        "        train_corr += batch_corr\n",
        "        \n",
        "      \n",
        "        optimize1.zero_grad()\n",
        "        training_loss.backward()\n",
        "        optimize1.step()\n",
        "        \n",
        "    \n",
        "    train_losses_mod1.append(training_loss)\n",
        "    train_corr_model1.append(train_corr)\n",
        "        \n",
        "    # testing the batches\n",
        "    with torch.no_grad():\n",
        "        for b, (X_test, y_test) in enumerate(test_loader1):\n",
        "\n",
        "            y_val = model1(X_test.view(-1,784)) \n",
        "\n",
        "            predicted = torch.max(y_val.data, 1)[1] \n",
        "            test_corr += (predicted == y_test).sum()\n",
        "    \n",
        "    \n",
        "    test_loss = Criterion_loss1(y_val, y_test)\n",
        "    test_losses_mod1.append(test_loss)\n",
        "    test_corr_model1.append(test_corr)"
      ],
      "metadata": {
        "id": "CW5BCsjgnD42"
      },
      "execution_count": null,
      "outputs": []
    },
    {
      "cell_type": "code",
      "source": [
        "train_loss_list=[]\n",
        "for i in range(len(train_losses_mod1)):\n",
        "     train_loss_list.append(train_losses_mod1[i].detach().numpy())\n",
        "  \n",
        "test_loss_list=[]\n",
        "for i in range(len(test_losses_mod1)):\n",
        "     test_loss_list.append(test_losses_mod1[i].detach().numpy())\n",
        "train_accuracy_list=[]\n",
        "for i in range(len(train_corr_model1)):\n",
        "     train_accuracy_list.append(train_corr_model1[i].detach().numpy()/600)\n",
        "test_accuracy_list=[]\n",
        "for i in range(len(test_corr_model1)):\n",
        "     test_accuracy_list.append(test_corr_model1[i].detach().numpy()/100)"
      ],
      "metadata": {
        "id": "zFYlQhb6nIp6"
      },
      "execution_count": null,
      "outputs": []
    },
    {
      "cell_type": "markdown",
      "source": [
        "model 2"
      ],
      "metadata": {
        "id": "pDV8cF2WogGQ"
      }
    },
    {
      "cell_type": "code",
      "source": [
        "class Model2(nn.Module):\n",
        "    def __init__(self, in_features=784, h2=20, h3=40, out_features=10):\n",
        "        super().__init__()\n",
        "        self.fc1 = nn.Linear(in_features,h2)    \n",
        "        self.fc2 = nn.Linear(h2, h3)\n",
        "        self.out = nn.Linear(h3, out_features)\n",
        "        \n",
        "        \n",
        "    def forward(self, x):\n",
        "        x = F.relu(self.fc1(x))\n",
        "        x = F.relu(self.fc2(x))\n",
        "        x = self.out(x)\n",
        "        return x\n",
        "model2=Model2()\n",
        "mod2_parameters=CalParameters(model2)\n",
        "print(mod2_parameters)"
      ],
      "metadata": {
        "colab": {
          "base_uri": "https://localhost:8080/"
        },
        "id": "tccNqj9coa0h",
        "outputId": "10a862d4-8836-4faf-8eab-8babac20c9d0"
      },
      "execution_count": null,
      "outputs": [
        {
          "output_type": "stream",
          "name": "stdout",
          "text": [
            "16950\n"
          ]
        }
      ]
    },
    {
      "cell_type": "code",
      "source": [
        "model2"
      ],
      "metadata": {
        "colab": {
          "base_uri": "https://localhost:8080/"
        },
        "id": "E4AAk4JqojZb",
        "outputId": "15b11d71-8fca-406a-f0cf-b2111ec6bb0e"
      },
      "execution_count": null,
      "outputs": [
        {
          "output_type": "execute_result",
          "data": {
            "text/plain": [
              "Model2(\n",
              "  (fc1): Linear(in_features=784, out_features=20, bias=True)\n",
              "  (fc2): Linear(in_features=20, out_features=40, bias=True)\n",
              "  (out): Linear(in_features=40, out_features=10, bias=True)\n",
              ")"
            ]
          },
          "metadata": {},
          "execution_count": 15
        }
      ]
    },
    {
      "cell_type": "code",
      "source": [
        "critical_loss_2 = nn.CrossEntropyLoss()\n",
        "optim2 = torch.optim.Adam(model2.parameters(), lr=0.001)\n",
        "epochs = 10\n",
        "train_losses_mod2=[]\n",
        "test_losses_mod2=[]\n",
        "train_correct_mod2 = []\n",
        "test_correct_mod2 = []\n",
        "for i in range(epochs):\n",
        "    train_corr = 0\n",
        "    test_corr = 0\n",
        "\n",
        "    \n",
        "    for b, (X_train, y_train) in enumerate(train_loader2):\n",
        "       \n",
        "        y_pred = model2(X_train.view(-1,784))  \n",
        "        loss = critical_loss_2(y_pred, y_train)\n",
        "\n",
        "        predicted = torch.max(y_pred.data, 1)[1]\n",
        "        batch_corr = (predicted == y_train).sum()\n",
        "        train_corr += batch_corr\n",
        "        \n",
        "        \n",
        "        optim2.zero_grad()\n",
        "        loss.backward()\n",
        "        optim2.step()\n",
        "        \n",
        "    \n",
        "    train_losses_mod2.append(loss)\n",
        "    train_correct_mod2.append(train_corr)\n",
        "        \n",
        "    \n",
        "    with torch.no_grad():\n",
        "        for b, (X_test, y_test) in enumerate(test_loader2):\n",
        "\n",
        "           \n",
        "            y_val = model2(X_test.view(-1,784)) \n",
        "\n",
        "            predicted = torch.max(y_val.data, 1)[1] \n",
        "            test_corr += (predicted == y_test).sum()\n",
        "    \n",
        "    \n",
        "    loss = critical_loss_2(y_val, y_test)\n",
        "    test_losses_mod2.append(loss)\n",
        "    test_correct_mod2.append(test_corr)"
      ],
      "metadata": {
        "id": "3K2QNAj3olDG"
      },
      "execution_count": null,
      "outputs": []
    },
    {
      "cell_type": "code",
      "source": [
        "for i in range(len(train_losses_mod2)):\n",
        "     train_loss_list.append(train_losses_mod2[i].detach().numpy())\n",
        "  \n",
        "for i in range(len(test_losses_mod2)):\n",
        "     test_loss_list.append(test_losses_mod2[i].detach().numpy())\n",
        "for i in range(len(train_correct_mod2)):\n",
        "     train_accuracy_list.append(train_correct_mod2[i].detach().numpy()/600)\n",
        "for i in range(len(test_correct_mod2)):\n",
        "     test_accuracy_list.append(test_correct_mod2[i].detach().numpy()/100)"
      ],
      "metadata": {
        "id": "pUjxJvZkop3S"
      },
      "execution_count": null,
      "outputs": []
    },
    {
      "cell_type": "code",
      "source": [
        "alpa=np.linspace(-1.0, 2.0, num=20)\n",
        "thetaArr=[]\n",
        "for i in range(len(alpa)):\n",
        "    theta=(1-alpa[i])*mod1_parameters+alpa[i]*mod2_parameters\n",
        "    thetaArr.append(theta)\n",
        "\n",
        "fig, ax1 = plt.subplots()\n",
        "ax2 = ax1.twinx()\n",
        "ax1.plot(alpa, train_loss_list, 'g', label='Train')\n",
        "ax1.plot(alpa, test_loss_list, 'g--', label='Test')\n",
        "ax2.plot(alpa, train_accuracy_list, 'y', label='accuracy')\n",
        "ax2.plot(alpa, test_accuracy_list, 'y--', label='accuracy')\n",
        "ax1.set_title('Loss and accuracy when learning rate = 0.001 ')\n",
        "ax1.set_xlabel('alpha')\n",
        "ax1.set_ylabel('loss', color='b')\n",
        "ax2.set_ylabel('accuracy', color='r')\n",
        "ax1.legend(loc='upper right')"
      ],
      "metadata": {
        "colab": {
          "base_uri": "https://localhost:8080/",
          "height": 312
        },
        "id": "lNSJw5kCqFY2",
        "outputId": "ad4514f1-47d9-40d1-8f7b-fe07f9444501"
      },
      "execution_count": null,
      "outputs": [
        {
          "output_type": "execute_result",
          "data": {
            "text/plain": [
              "<matplotlib.legend.Legend at 0x7f1dbe6d1820>"
            ]
          },
          "metadata": {},
          "execution_count": 20
        },
        {
          "output_type": "display_data",
          "data": {
            "text/plain": [
              "<Figure size 432x288 with 2 Axes>"
            ],
            "image/png": "[encoded data removed]"
          },
          "metadata": {
            "needs_background": "light"
          }
        }
      ]
    },
    {
      "cell_type": "markdown",
      "source": [
        "When learning rate = 0.01"
      ],
      "metadata": {
        "id": "G8TE7ShpqgnD"
      }
    },
    {
      "cell_type": "code",
      "source": [
        "class ModelOne(nn.Module):\n",
        "    def __init__(self, in_features=784, h2=20, h3=40, out_features=10):\n",
        "        super().__init__()\n",
        "        self.fc1 = nn.Linear(in_features,h2)    \n",
        "        self.fc2 = nn.Linear(h2, h3)\n",
        "        self.out = nn.Linear(h3, out_features)\n",
        "        \n",
        "        \n",
        "    def forward(self, x):\n",
        "        x = F.relu(self.fc1(x))\n",
        "        x = F.relu(self.fc2(x))\n",
        "        x = self.out(x)\n",
        "        return x\n",
        "model_one=ModelOne()\n",
        "crit_loss_one = nn.CrossEntropyLoss()\n",
        "optim_one = torch.optim.Adam(model_one.parameters(), lr=0.01)"
      ],
      "metadata": {
        "id": "DNZpuxjfqHgC"
      },
      "execution_count": null,
      "outputs": []
    },
    {
      "cell_type": "code",
      "source": [
        "epochs = 10\n",
        "train_corr_model1 = []\n",
        "test_corr_model1 = []\n",
        "train_losses_mod1=[]\n",
        "test_losses_mod1=[]\n",
        "\n",
        "for i in range(epochs):\n",
        "    train_corr = 0\n",
        "    test_corr = 0\n",
        "\n",
        "    for b, (X_train, y_train) in enumerate(train_loader1):\n",
        "       \n",
        "        y_pred = model_one(X_train.view(-1,784))  \n",
        "        training_loss = crit_loss_one(y_pred, y_train)\n",
        "\n",
        "        predicted = torch.max(y_pred.data, 1)[1]\n",
        "        batch_corr = (predicted == y_train).sum()\n",
        "        train_corr += batch_corr\n",
        "        \n",
        "       \n",
        "        optim_one.zero_grad()\n",
        "        training_loss.backward()\n",
        "        optim_one.step()\n",
        "        \n",
        "    \n",
        "    train_losses_mod1.append(training_loss)\n",
        "    train_corr_model1.append(train_corr)\n",
        "        \n",
        "   \n",
        "    with torch.no_grad():\n",
        "        for b, (X_test, y_test) in enumerate(test_loader1):\n",
        "\n",
        "            y_val = model_one(X_test.view(-1,784)) \n",
        "\n",
        "            predicted = torch.max(y_val.data, 1)[1] \n",
        "            test_corr += (predicted == y_test).sum()\n",
        "    \n",
        "   \n",
        "    test_loss = crit_loss_one(y_val, y_test)\n",
        "    test_losses_mod1.append(test_loss)\n",
        "    test_corr_model1.append(test_corr)"
      ],
      "metadata": {
        "id": "D0CKMOEiqlXb"
      },
      "execution_count": null,
      "outputs": []
    },
    {
      "cell_type": "code",
      "source": [
        "train_loss_list=[]\n",
        "for i in range(len(train_losses_mod1)):\n",
        "     train_loss_list.append(train_losses_mod1[i].detach().numpy())\n",
        "test_loss_list=[]\n",
        "for i in range(len(test_losses_mod1)):\n",
        "     test_loss_list.append(test_losses_mod1[i].detach().numpy())\n",
        "train_accuracy_list=[]\n",
        "for i in range(len(train_corr_model1)):\n",
        "     train_accuracy_list.append(train_corr_model1[i].detach().numpy()/600)\n",
        "test_accuracy_list=[]\n",
        "for i in range(len(test_corr_model1)):\n",
        "     test_accuracy_list.append(test_corr_model1[i].detach().numpy()/100)"
      ],
      "metadata": {
        "id": "VIGItuhqqpMW"
      },
      "execution_count": null,
      "outputs": []
    },
    {
      "cell_type": "markdown",
      "source": [
        "Model 2 for 0.01"
      ],
      "metadata": {
        "id": "OaDeGIZnrTLK"
      }
    },
    {
      "cell_type": "code",
      "source": [
        "class ModelTwo(nn.Module):\n",
        "    def __init__(self, in_features=784, h2=20, h3=40, out_features=10):\n",
        "        super().__init__()\n",
        "        self.fc1 = nn.Linear(in_features,h2)    \n",
        "        self.fc2 = nn.Linear(h2, h3)\n",
        "        self.out = nn.Linear(h3, out_features)\n",
        "        \n",
        "        \n",
        "    def forward(self, x):\n",
        "        x = F.relu(self.fc1(x))\n",
        "        x = F.relu(self.fc2(x))\n",
        "        x = self.out(x)\n",
        "        return x\n",
        "model_two=ModelTwo()\n",
        "crit_loss_two = nn.CrossEntropyLoss()\n",
        "optim_two = torch.optim.Adam(model_two.parameters(), lr=0.01)"
      ],
      "metadata": {
        "id": "GUThdxP7rR6u"
      },
      "execution_count": null,
      "outputs": []
    },
    {
      "cell_type": "code",
      "source": [
        "epochs = 10\n",
        "train_correct_mod2 = []\n",
        "test_correct_mod2 = []\n",
        "train_losses_mod2=[]\n",
        "test_losses_mod2=[]\n",
        "\n",
        "for i in range(epochs):\n",
        "    train_corr = 0\n",
        "    test_corr = 0\n",
        "\n",
        "    for b, (X_train, y_train) in enumerate(train_loader2):\n",
        "       \n",
        "        y_pred = model_two(X_train.view(-1,784))  \n",
        "        training_loss = crit_loss_two(y_pred, y_train)\n",
        "\n",
        "        predicted = torch.max(y_pred.data, 1)[1]\n",
        "        batch_corr = (predicted == y_train).sum()\n",
        "        train_corr += batch_corr\n",
        "        \n",
        "       \n",
        "        optim_two .zero_grad()\n",
        "        training_loss.backward()\n",
        "        optim_two .step()\n",
        "        \n",
        "   \n",
        "    train_losses_mod2.append(training_loss)\n",
        "    train_correct_mod2.append(train_corr)\n",
        "        \n",
        "    \n",
        "    with torch.no_grad():\n",
        "        for b, (X_test, y_test) in enumerate(test_loader2):\n",
        "\n",
        "            y_val = model_two(X_test.view(-1,784)) \n",
        "\n",
        "            predicted = torch.max(y_val.data, 1)[1] \n",
        "            test_corr += (predicted == y_test).sum()\n",
        "    \n",
        "    \n",
        "    test_loss = crit_loss_two(y_val, y_test)\n",
        "    test_losses_mod2.append(test_loss)\n",
        "    test_correct_mod2.append(test_corr)"
      ],
      "metadata": {
        "id": "fEHkZOvmrX0h"
      },
      "execution_count": null,
      "outputs": []
    },
    {
      "cell_type": "code",
      "source": [
        "for i in range(len(train_losses_mod2)):\n",
        "     train_loss_list.append(train_losses_mod2[i].detach().numpy())\n",
        "for i in range(len(test_losses_mod2)):\n",
        "     test_loss_list.append(test_losses_mod2[i].detach().numpy())\n",
        "for i in range(len(train_correct_mod2)):\n",
        "     train_accuracy_list.append(train_correct_mod2[i].detach().numpy()/600)\n",
        "for i in range(len(test_correct_mod2)):\n",
        "     test_accuracy_list.append(test_correct_mod2[i].detach().numpy()/100)\n",
        "\n",
        "fig, ax1 = plt.subplots()\n",
        "ax2 = ax1.twinx()\n",
        "ax1.plot(alpa, train_loss_list, 'b', label='Train')\n",
        "ax1.plot(alpa, test_loss_list, 'b--', label='Test')\n",
        "ax2.plot(alpa, train_accuracy_list, 'r', label='accuracy')\n",
        "ax2.plot(alpa, test_accuracy_list, 'r--', label='accuracy')\n",
        "ax1.set_title('Loss and accuracy to the number of interpolation ratio lr=0.01. ')\n",
        "ax1.set_xlabel('alpha')\n",
        "ax1.set_ylabel('loss', color='b')\n",
        "ax2.set_ylabel('accuracy', color='r')\n",
        "ax1.legend(loc='upper right')"
      ],
      "metadata": {
        "colab": {
          "base_uri": "https://localhost:8080/",
          "height": 312
        },
        "id": "tqCKkOGLrcUh",
        "outputId": "5dc2c876-0b9e-412a-86dc-3144d07cfeed"
      },
      "execution_count": null,
      "outputs": [
        {
          "output_type": "execute_result",
          "data": {
            "text/plain": [
              "<matplotlib.legend.Legend at 0x7f1dbcbbe160>"
            ]
          },
          "metadata": {},
          "execution_count": 52
        },
        {
          "output_type": "display_data",
          "data": {
            "text/plain": [
              "<Figure size 432x288 with 2 Axes>"
            ],
            "image/png": "[encoded data removed]"
          },
          "metadata": {
            "needs_background": "light"
          }
        }
      ]
    },
    {
      "cell_type": "code",
      "source": [],
      "metadata": {
        "id": "BldIlMy_sGzh"
      },
      "execution_count": null,
      "outputs": []
    }
  ]
}