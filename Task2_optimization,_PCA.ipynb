{
  "nbformat": 4,
  "nbformat_minor": 0,
  "metadata": {
    "colab": {
      "provenance": []
    },
    "kernelspec": {
      "name": "python3",
      "display_name": "Python 3"
    },
    "language_info": {
      "name": "python"
    }
  },
  "cells": [
    {
      "cell_type": "markdown",
      "source": [
        "Gradient Descent Optimization of sin(5*pi*x)/(5*pi*x) function"
      ],
      "metadata": {
        "id": "JGrp-vrJetr_"
      }
    },
    {
      "cell_type": "code",
      "execution_count": null,
      "metadata": {
        "id": "5h5BE5O-dr5e"
      },
      "outputs": [],
      "source": [
        "import torch\n",
        "import torchvision\n",
        "import pandas as pd\n",
        "from torchsummary import summary\n",
        "import matplotlib.pyplot as plt\n",
        "import torch.nn as nn\n",
        "import torch.nn.functional as F\n",
        "import torch.optim as optim\n",
        "import numpy as np\n",
        "from sklearn.decomposition import PCA"
      ]
    },
    {
      "cell_type": "code",
      "source": [
        "def function(x):\n",
        "    return torch.sin(5*np.pi*x)/(5*np.pi*x)\n",
        "\n",
        "def grad(x):\n",
        "    return (torch.cos(5*np.pi*x) - torch.sin(5*np.pi*x)/(5*np.pi*x))/(5*np.pi*x)\n",
        "\n",
        "x = torch.tensor([2.0], requires_grad=True)\n"
      ],
      "metadata": {
        "id": "-E4d2Y5YdwG-"
      },
      "execution_count": null,
      "outputs": []
    },
    {
      "cell_type": "code",
      "source": [
        "lr = 0.01\n",
        "\n",
        "x_list = [x.item()]\n",
        "\n",
        "# gradient descent calculation for 8 iterations\n",
        "for i in range(8):\n",
        "    y = function(x)\n",
        "    y.backward()\n",
        "    x.data = x.data - lr * x.grad\n",
        "    x.grad.zero_()\n",
        "    x_list.append(x.item())"
      ],
      "metadata": {
        "id": "p-SMBqjKd0r_"
      },
      "execution_count": null,
      "outputs": []
    },
    {
      "cell_type": "code",
      "source": [
        "X = np.linspace(-2, 2, 1000)\n",
        "Y = function(torch.tensor(X)).detach().numpy()\n",
        "plt.plot(X, Y, label=\"Function\")\n",
        "plt.plot(x_list, [function(torch.tensor([x])).item() for x in x_list], 'ro-', label=\"Optimization Process\")\n",
        "plt.xlabel(\"X\")\n",
        "plt.ylabel(\"Y\")\n",
        "plt.legend()\n",
        "plt.show()"
      ],
      "metadata": {
        "colab": {
          "base_uri": "https://localhost:8080/",
          "height": 279
        },
        "id": "x7RktwH3eCBi",
        "outputId": "ccde70d0-f338-4723-ec34-c9ff8aff9573"
      },
      "execution_count": null,
      "outputs": [
        {
          "output_type": "display_data",
          "data": {
            "text/plain": [
              "<Figure size 432x288 with 1 Axes>"
            ],
            "image/png": "[encoded data removed]"
          },
          "metadata": {
            "needs_background": "light"
          }
        }
      ]
    },
    {
      "cell_type": "markdown",
      "source": [
        "Principle Component Analysis"
      ],
      "metadata": {
        "id": "poB03_XKesw7"
      }
    },
    {
      "cell_type": "code",
      "source": [
        "X = torch.linspace(-10,10,200).reshape(-1,1)\n",
        "y=(np.sin(5*(np.pi*X)))/((5*(np.pi*X)))"
      ],
      "metadata": {
        "id": "u_E6Is2cv7aM"
      },
      "execution_count": null,
      "outputs": []
    },
    {
      "cell_type": "code",
      "source": [
        "def CalculateParams(model):\n",
        "    val = sum(params.numel() for params in model.parameters() if params.requires_grad)\n",
        "    return val"
      ],
      "metadata": {
        "id": "hDkkTHLPv7uO"
      },
      "execution_count": null,
      "outputs": []
    },
    {
      "cell_type": "code",
      "source": [
        "#Creating Model\n",
        "class Model(nn.Module):\n",
        "    def __init__(self, in_features=1, h1=5, h2=10, out_features=1):\n",
        "        super().__init__()\n",
        "        self.fc1 = nn.Linear(in_features,h1)    \n",
        "        self.fc2 = nn.Linear(h1, h2)\n",
        "        self.fc3 = nn.Linear(h2, out_features)\n",
        "        \n",
        "        \n",
        "    def forward(self, x):\n",
        "        x = F.relu(self.fc1(x))\n",
        "        x = F.relu(self.fc2(x))\n",
        "        x = self.fc3(x)\n",
        "        return x"
      ],
      "metadata": {
        "id": "7nWFf_UPuTj9"
      },
      "execution_count": null,
      "outputs": []
    },
    {
      "cell_type": "code",
      "source": [
        "model=Model()\n"
      ],
      "metadata": {
        "id": "tKO_32KguUb_"
      },
      "execution_count": null,
      "outputs": []
    },
    {
      "cell_type": "code",
      "source": [
        "lay1_cons = 1 * 5\n",
        "lay2_cons = 5 * 10\n",
        "lay3_cons = 10 * 1\n",
        "tot_mod_cons = lay1_cons + lay2_cons + lay3_cons"
      ],
      "metadata": {
        "id": "zDtV-ManvU2N"
      },
      "execution_count": null,
      "outputs": []
    },
    {
      "cell_type": "code",
      "source": [
        "no_iterations = 8\n",
        "epochs = 30\n",
        "epoch_num = int(epochs / 3)\n",
        "c = 0\n",
        "modloss=[]\n",
        "whole_mod_weights_tensor = np.zeros((no_iterations * epoch_num, tot_mod_cons))\n"
      ],
      "metadata": {
        "id": "aSwL2mVpg9zh"
      },
      "execution_count": null,
      "outputs": []
    },
    {
      "cell_type": "code",
      "source": [
        "for train in range(no_iterations):\n",
        "    model = Model()\n",
        "    criterion_loss = nn.CrossEntropyLoss()\n",
        "    optim = torch.optim.Adam(model.parameters(), lr=0.001)\n",
        "    for i in range(epochs):\n",
        "        i += 1\n",
        "        y_pred = model.forward(X)\n",
        "        trn_loss = criterion_loss(y_pred, y)\n",
        "        modloss.append(trn_loss)\n",
        "\n",
        "        optim.zero_grad()\n",
        "        trn_loss.backward()\n",
        "        optim.step()\n",
        "        if i % 3 == 0:\n",
        "            layer1_weights = torch.reshape(torch.flatten(model.fc1.weight), (1, lay1_cons))\n",
        "            layer2_weights  = torch.reshape(torch.flatten(model.fc2.weight), (1, lay2_cons))\n",
        "            layer3_weights  = torch.reshape(torch.flatten(model.fc3.weight), (1, lay3_cons))\n",
        "            total_lay1_2 = torch.cat((layer2_weights , layer1_weights), dim=1)\n",
        "            whole_mod_weights = torch.cat((total_lay1_2, layer3_weights), dim=1)\n",
        "            whole_mod_weights_tensor[c] = whole_mod_weights.detach().numpy()\n",
        "            c += 1"
      ],
      "metadata": {
        "id": "HtWmz8W5tYg9"
      },
      "execution_count": null,
      "outputs": []
    },
    {
      "cell_type": "code",
      "source": [
        "pca = PCA(n_components=2)\n",
        "reduced_weights = pca.fit_transform(whole_mod_weights_tensor)"
      ],
      "metadata": {
        "id": "yQQmoQesvGZj"
      },
      "execution_count": null,
      "outputs": []
    },
    {
      "cell_type": "markdown",
      "source": [
        "***With the first principal component on the x-axis and the second principal component on the y-axis of a scatter plot, the model runs PCA on the gathered weights to decrease their dimension to two.***"
      ],
      "metadata": {
        "id": "eUIH58oawglr"
      }
    },
    {
      "cell_type": "markdown",
      "source": [],
      "metadata": {
        "id": "6mWXB0AOOGFy"
      }
    },
    {
      "cell_type": "code",
      "source": [
        "plt.scatter(reduced_weights[:, 0], reduced_weights[:, 1])\n",
        "plt.xlabel(\"First Principal Component\")\n",
        "plt.ylabel(\"Second Principal Component\")\n",
        "plt.show()"
      ],
      "metadata": {
        "colab": {
          "base_uri": "https://localhost:8080/",
          "height": 279
        },
        "id": "pz6C63dmwVye",
        "outputId": "6528c4ca-34cc-482e-8a18-d85ed53f86c9"
      },
      "execution_count": null,
      "outputs": [
        {
          "output_type": "display_data",
          "data": {
            "text/plain": [
              "<Figure size 432x288 with 1 Axes>"
            ],
            "image/png": "[encoded data removed]"
          },
          "metadata": {
            "needs_background": "light"
          }
        }
      ]
    },
    {
      "cell_type": "code",
      "source": [],
      "metadata": {
        "id": "nWdwFXzywfMA"
      },
      "execution_count": null,
      "outputs": []
    },
    {
      "cell_type": "code",
      "source": [],
      "metadata": {
        "id": "0uIVCW6RwY8g"
      },
      "execution_count": null,
      "outputs": []
    }
  ]
}