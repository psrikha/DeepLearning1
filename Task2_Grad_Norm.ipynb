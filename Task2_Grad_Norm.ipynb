{
  "nbformat": 4,
  "nbformat_minor": 0,
  "metadata": {
    "colab": {
      "provenance": []
    },
    "kernelspec": {
      "name": "python3",
      "display_name": "Python 3"
    },
    "language_info": {
      "name": "python"
    }
  },
  "cells": [
    {
      "cell_type": "markdown",
      "source": [
        "Gradient Norm on sin(5*pi*x)/(5*pi*x)"
      ],
      "metadata": {
        "id": "iyVPRtXwN7nj"
      }
    },
    {
      "cell_type": "code",
      "execution_count": null,
      "metadata": {
        "id": "QfvULCJsRyGR"
      },
      "outputs": [],
      "source": [
        "import torch\n",
        "import torch.nn as nn\n",
        "import torch.nn.functional as F\n",
        "from torch.utils.data import DataLoader\n",
        "from torchvision import datasets, transforms\n",
        "\n",
        "\n",
        "import numpy as np\n",
        "import pandas as pd\n",
        "import matplotlib.pyplot as plt\n",
        "%matplotlib inline"
      ]
    },
    {
      "cell_type": "code",
      "source": [
        "X = torch.linspace(-1,1,200).reshape(-1,1)\n",
        "y=(np.sin(5*(np.pi*X)))/((5*(np.pi*X)))"
      ],
      "metadata": {
        "id": "SJZmCeJwSWlh"
      },
      "execution_count": null,
      "outputs": []
    },
    {
      "cell_type": "code",
      "source": [
        "class Model(nn.Module):\n",
        "    def __init__(self, inp=1, h2=5, h3=15,h4=15,h5=15,h6=15,h7=15,h8=5, outp=1):\n",
        "        super().__init__()\n",
        "        self.fc1 = nn.Linear(inp,h2)    \n",
        "        self.fc2 = nn.Linear(h2, h3)\n",
        "        self.fc3 = nn.Linear(h3, h4)\n",
        "        self.fc4 = nn.Linear(h4, h5)\n",
        "        self.fc5 = nn.Linear(h5, h6)\n",
        "        self.fc6 = nn.Linear(h6, h7)\n",
        "        self.fc7 = nn.Linear(h7, h8)\n",
        "        self.out = nn.Linear(h8, outp)\n",
        "        self.dropout = nn.Dropout(0.2)  \n",
        "\n",
        "    def forward(self, x):\n",
        "        x = F.relu(self.fc1(x))\n",
        "        x = self.dropout(x)\n",
        "        x = F.relu(self.fc2(x))\n",
        "        x = self.dropout(x)\n",
        "        x = F.relu(self.fc3(x))\n",
        "        x = self.dropout(x)\n",
        "        x = F.relu(self.fc4(x))\n",
        "        x = self.dropout(x)\n",
        "        x = F.relu(self.fc5(x))\n",
        "        x = self.dropout(x)\n",
        "        x = F.relu(self.fc6(x))\n",
        "        x = self.dropout(x)\n",
        "        x = F.relu(self.fc7(x))\n",
        "        x = self.dropout(x)\n",
        "        x = self.out(x)\n",
        "        return x\n"
      ],
      "metadata": {
        "id": "eltDmNvTSfYu"
      },
      "execution_count": null,
      "outputs": []
    },
    {
      "cell_type": "code",
      "source": [
        "model = Model()\n",
        "CriterionLoss = nn.MSELoss()\n",
        "optim = torch.optim.Adam(model.parameters(), lr=0.001)"
      ],
      "metadata": {
        "id": "QoozpkPxTom6"
      },
      "execution_count": null,
      "outputs": []
    },
    {
      "cell_type": "code",
      "source": [
        "epochs = 2000\n",
        "losses = []\n",
        "grad_norm_list = []\n",
        "\n",
        "for i in range(epochs):\n",
        "    i += 1\n",
        "    # feed forwarding\n",
        "    y_pred = model.forward(X)\n",
        "    \n",
        "    # calculate loss\n",
        "    tloss = CriterionLoss(y_pred, y)\n",
        "    losses.append(tloss)\n",
        "    \n",
        "    optim.zero_grad()\n",
        "    tloss.backward()\n",
        "    \n",
        "    optim.step()\n",
        "    \n",
        "    # Get gradient norm (From slides)\n",
        "    grad_all = 0.0\n",
        "    for p in model.parameters():\n",
        "        grad = 0.0\n",
        "        if p.grad is not None:\n",
        "            grad = (p.grad.cpu().data.numpy() ** 2).sum()\n",
        "        grad_all += grad\n",
        "    grad_norm = grad_all ** 0.5\n",
        "    grad_norm_list.append(grad_norm)\n",
        "    \n",
        "    # Print loss every 100 epochs\n",
        "    if i % 100 == 0:\n",
        "        print(f'Epoch: {i}, Loss: {tloss.item()}, Gradient Norm: {grad_norm}')\n"
      ],
      "metadata": {
        "id": "7XwqyvvlTvle",
        "colab": {
          "base_uri": "https://localhost:8080/"
        },
        "outputId": "f1e76598-021f-4b62-8743-fb5c5ec6f1ac"
      },
      "execution_count": null,
      "outputs": [
        {
          "output_type": "stream",
          "name": "stdout",
          "text": [
            "Epoch: 100, Loss: 0.08412808179855347, Gradient Norm: 0.017314995482675767\n",
            "Epoch: 200, Loss: 0.06687755882740021, Gradient Norm: 0.04545248991341387\n",
            "Epoch: 300, Loss: 0.03885643184185028, Gradient Norm: 0.05674238503334402\n",
            "Epoch: 400, Loss: 0.03657867759466171, Gradient Norm: 0.12020337207995294\n",
            "Epoch: 500, Loss: 0.030078131705522537, Gradient Norm: 0.1249890404940263\n",
            "Epoch: 600, Loss: 0.025911984965205193, Gradient Norm: 0.15187634826743585\n",
            "Epoch: 700, Loss: 0.035381194204092026, Gradient Norm: 0.11897352673580289\n",
            "Epoch: 800, Loss: 0.025408193469047546, Gradient Norm: 0.16393702500587748\n",
            "Epoch: 900, Loss: 0.034029845148324966, Gradient Norm: 0.15714851591429005\n",
            "Epoch: 1000, Loss: 0.025066416710615158, Gradient Norm: 0.22531614945959752\n",
            "Epoch: 1100, Loss: 0.035567447543144226, Gradient Norm: 0.10512056580044447\n",
            "Epoch: 1200, Loss: 0.03713627904653549, Gradient Norm: 0.18515908855670973\n",
            "Epoch: 1300, Loss: 0.022375650703907013, Gradient Norm: 0.31579691981051183\n",
            "Epoch: 1400, Loss: 0.027462579309940338, Gradient Norm: 0.1164447187174797\n",
            "Epoch: 1500, Loss: 0.024047989398241043, Gradient Norm: 0.18317825442318528\n",
            "Epoch: 1600, Loss: 0.023447150364518166, Gradient Norm: 0.21446847873269\n",
            "Epoch: 1700, Loss: 0.020810449495911598, Gradient Norm: 0.11601199656797193\n",
            "Epoch: 1800, Loss: 0.018911726772785187, Gradient Norm: 0.22494005271734585\n",
            "Epoch: 1900, Loss: 0.022883741185069084, Gradient Norm: 0.1512708369815816\n",
            "Epoch: 2000, Loss: 0.021518291905522346, Gradient Norm: 0.20525577963757002\n"
          ]
        }
      ]
    },
    {
      "cell_type": "code",
      "source": [
        "losses=torch.tensor(losses)\n",
        "plt.plot(range(epochs), losses.numpy(), 'b', label='model')\n",
        "plt.title(\"Loss\")\n",
        "plt.xlabel(\"Epochs\")\n",
        "plt.ylabel(\"Loss\")\n",
        "plt.legend(loc=\"upper right\")\n",
        "plt.show()"
      ],
      "metadata": {
        "colab": {
          "base_uri": "https://localhost:8080/",
          "height": 295
        },
        "id": "8rJCvsw6Tx4a",
        "outputId": "01e03f68-a5a7-4150-92c7-87b739fee1b3"
      },
      "execution_count": null,
      "outputs": [
        {
          "output_type": "display_data",
          "data": {
            "text/plain": [
              "<Figure size 432x288 with 1 Axes>"
            ],
            "image/png": "[encoded data removed]"
          },
          "metadata": {
            "needs_background": "light"
          }
        }
      ]
    },
    {
      "cell_type": "code",
      "source": [
        "#Gradient norm to iterations\n",
        "plt.plot(range(epochs), grad_norm_list,label='model')\n",
        "plt.title(\"Gradient Norm \")\n",
        "plt.xlabel(\"Epochs\")\n",
        "plt.ylabel(\"Gradient Norm\")\n",
        "plt.legend(loc=\"upper right\")\n",
        "plt.show()"
      ],
      "metadata": {
        "colab": {
          "base_uri": "https://localhost:8080/",
          "height": 295
        },
        "id": "Sc_XtzA7T2vS",
        "outputId": "ecefd380-29b5-4a14-ddfd-407b35d88530"
      },
      "execution_count": null,
      "outputs": [
        {
          "output_type": "display_data",
          "data": {
            "text/plain": [
              "<Figure size 432x288 with 1 Axes>"
            ],
            "image/png": "[encoded data removed]"
          },
          "metadata": {
            "needs_background": "light"
          }
        }
      ]
    },
    {
      "cell_type": "markdown",
      "source": [
        "Gradient Norm on MNIST Dataset\n"
      ],
      "metadata": {
        "id": "DfVf19JLN6l8"
      }
    },
    {
      "cell_type": "code",
      "source": [
        "import torch\n",
        "import torchvision\n",
        "import pandas as pd\n",
        "from torchsummary import summary\n",
        "import matplotlib.pyplot as plt\n",
        "import torch.nn as nn\n",
        "import torch.nn.functional as F\n",
        "import torch.optim as optim\n",
        "import numpy as np\n",
        "from torchvision import transforms,datasets"
      ],
      "metadata": {
        "id": "Uqy_tUzZOcMa"
      },
      "execution_count": null,
      "outputs": []
    },
    {
      "cell_type": "code",
      "source": [
        "train=datasets.MNIST(\"\",train=True,download=True,transform=transforms.Compose([transforms.ToTensor()]))\n",
        "test=datasets.MNIST(\"\",train=False,download=True,transform=transforms.Compose([transforms.ToTensor()]))"
      ],
      "metadata": {
        "id": "OFK_Dly1Od_l"
      },
      "execution_count": null,
      "outputs": []
    },
    {
      "cell_type": "code",
      "source": [
        "trainset=torch.utils.data.DataLoader(train,batch_size=10,shuffle=True)\n",
        "testset=torch.utils.data.DataLoader(train,batch_size=10,shuffle=True)"
      ],
      "metadata": {
        "id": "VPWe9a_JOeG3"
      },
      "execution_count": null,
      "outputs": []
    },
    {
      "cell_type": "code",
      "source": [
        "class Net(nn.Module):\n",
        "    def __init__(self):\n",
        "        super().__init__()\n",
        "        self.fc1 = nn.Linear(784, 16)\n",
        "        self.fc2 = nn.Linear(16, 16)\n",
        "        self.fc3 = nn.Linear(16, 10)\n",
        "        \n",
        "    def forward(self, x):\n",
        "        x = self.fc1(x)\n",
        "        x = F.relu(self.fc2(x))\n",
        "        x = self.fc3(x)\n",
        "        return F.log_softmax(x, dim=1)\n",
        "        \n",
        "net = Net()\n",
        "optimizer = optim.Adam(net.parameters(), lr=0.001)\n",
        "losses = []\n",
        "train_counter = []\n",
        "num_epochs = 5\n",
        "count = 0\n",
        "norm_list = []\n",
        "\n",
        "for epoch in range(num_epochs):\n",
        "    for data in trainset:\n",
        "        X, y = data\n",
        "        net.zero_grad()\n",
        "        output = net(X.view(-1, 28 * 28))\n",
        "        loss = F.nll_loss(output, y)\n",
        "        losses.append(loss)\n",
        "        loss.backward()\n",
        "        total_norm = 0\n",
        "        for p in net.parameters():\n",
        "            param_norm = p.grad.data.norm(2)\n",
        "            total_norm += param_norm.item() ** 2\n",
        "        total_norm = total_norm ** (1. / 2)\n",
        "        norm_list.append(total_norm)\n",
        "        optimizer.step()\n",
        "        train_counter.append((count * 64) + ((epoch - 1) * len(trainset.dataset)))\n",
        "        count += 1\n"
      ],
      "metadata": {
        "id": "afanvQxdOeJv"
      },
      "execution_count": null,
      "outputs": []
    },
    {
      "cell_type": "code",
      "source": [
        "losses=torch.tensor(losses)"
      ],
      "metadata": {
        "id": "T-3hAL1aRd_P"
      },
      "execution_count": null,
      "outputs": []
    },
    {
      "cell_type": "code",
      "source": [
        "import matplotlib.pyplot as plt\n",
        "plt.plot(norm_list,label='Gradient')\n",
        "plt.legend()\n",
        "plt.ylabel('Grad')\n",
        "plt.xlabel('Epochs')"
      ],
      "metadata": {
        "colab": {
          "base_uri": "https://localhost:8080/",
          "height": 297
        },
        "id": "N2eVJfE9OeMV",
        "outputId": "9d481aa1-9127-4bcf-9017-72bdc2af4a03"
      },
      "execution_count": null,
      "outputs": [
        {
          "output_type": "execute_result",
          "data": {
            "text/plain": [
              "Text(0.5, 0, 'Epochs')"
            ]
          },
          "metadata": {},
          "execution_count": 48
        },
        {
          "output_type": "display_data",
          "data": {
            "text/plain": [
              "<Figure size 432x288 with 1 Axes>"
            ],
            "image/png": "[encoded data removed]"
          },
          "metadata": {
            "needs_background": "light"
          }
        }
      ]
    },
    {
      "cell_type": "code",
      "source": [
        "plt.plot(losses,label='train')\n",
        "plt.ylabel('Loss')\n",
        "plt.xlabel('Epochs')\n",
        "plt.legend()"
      ],
      "metadata": {
        "colab": {
          "base_uri": "https://localhost:8080/",
          "height": 297
        },
        "id": "Ow4f-7FVOeO7",
        "outputId": "3bf77eba-95d7-442d-96f2-b73b990255bf"
      },
      "execution_count": null,
      "outputs": [
        {
          "output_type": "execute_result",
          "data": {
            "text/plain": [
              "<matplotlib.legend.Legend at 0x7f1128d3f070>"
            ]
          },
          "metadata": {},
          "execution_count": 49
        },
        {
          "output_type": "display_data",
          "data": {
            "text/plain": [
              "<Figure size 432x288 with 1 Axes>"
            ],
            "image/png": "[encoded data removed]"
          },
          "metadata": {
            "needs_background": "light"
          }
        }
      ]
    },
    {
      "cell_type": "code",
      "source": [],
      "metadata": {
        "id": "JnabNQV4OeRg"
      },
      "execution_count": null,
      "outputs": []
    },
    {
      "cell_type": "code",
      "source": [],
      "metadata": {
        "id": "JvovEe4LOeT2"
      },
      "execution_count": null,
      "outputs": []
    },
    {
      "cell_type": "code",
      "source": [],
      "metadata": {
        "id": "DmmsXt0gOeV8"
      },
      "execution_count": null,
      "outputs": []
    }
  ]
}